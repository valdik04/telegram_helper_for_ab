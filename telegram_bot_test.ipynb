{
 "cells": [
  {
   "cell_type": "code",
   "execution_count": 10,
   "metadata": {
    "pycharm": {
     "name": "#%%\n"
    }
   },
   "outputs": [],
   "source": [
    "import pandas as pd\n",
    "import numpy as np\n",
    "from statsmodels.stats.power import TTestIndPower\n",
    "import scipy.stats as scs"
   ]
  },
  {
   "cell_type": "code",
   "execution_count": 11,
   "outputs": [],
   "source": [
    "def what_is_metric():\n",
    "    while(True):\n",
    "        print(\"\"\"Подскажи, какую метрику мы будем отслеживать. Выбери вариант ответа из предложенных. Введи число или слово STOP, если хочешь начать сначала.\n",
    "        1) CR(CTR и т.д) - конверсия\n",
    "        2) ARPU - средний чек\n",
    "        3) ARPPU - средний чек среди платящих пользователей\n",
    "        4) Номинативная - распределенно по группам\n",
    "        5) Количественная - непрерывные значения(выручка, количество пользователей и т.д)\n",
    "        \"\"\")\n",
    "        number = int(input())\n",
    "        if number == 'STOP':\n",
    "            return 'STOP'\n",
    "        if number == 1:\n",
    "            return 'CR'\n",
    "        if number == 2:\n",
    "            return 'ARPU'\n",
    "        if number == 3:\n",
    "            return 'ARPPU'\n",
    "        if number == 4:\n",
    "            return 'nominative'\n",
    "        if number == 5:\n",
    "            return 'discrete'\n",
    "        print('Нет, такого варианта. Давай еще раз.')"
   ],
   "metadata": {
    "collapsed": false,
    "pycharm": {
     "name": "#%%\n"
    }
   }
  },
  {
   "cell_type": "code",
   "execution_count": null,
   "outputs": [],
   "source": [
    "def get_sigma(metric: str) -> float:\n",
    "    if metric == 'CR' or metric == 'nominative':\n",
    "        print(\"Введите базовое значение (конверсии)\")\n",
    "        p = float(input())\n",
    "        return (p*(1-p))**0.5\n",
    "    else:\n",
    "        print(\"Введите стандартное отклонение(std)\")\n",
    "        std = float(input())\n",
    "        return std"
   ],
   "metadata": {
    "collapsed": false,
    "pycharm": {
     "name": "#%%\n"
    }
   }
  },
  {
   "cell_type": "code",
   "execution_count": 29,
   "outputs": [],
   "source": [
    "def effect_size_func(mu_control: float, mu_experiment: float, sigma: float) -> float:\n",
    "    \"\"\"\n",
    "    :param mu_control: mean metric in control group\n",
    "    :param mu_experiment: mean metric in experiment group\n",
    "    :param sigma: Standard deviation\n",
    "    :return: effect_size\n",
    "    \"\"\"\n",
    "    return np.abs(mu_experiment - mu_control) / sigma"
   ],
   "metadata": {
    "collapsed": false,
    "pycharm": {
     "name": "#%%\n"
    }
   }
  },
  {
   "cell_type": "code",
   "execution_count": 12,
   "outputs": [],
   "source": [
    "def min_sample_size(effect_size, power=0.8, alpha=0.05):\n",
    "    \"\"\"\n",
    "    :param effect_size: from effect_size_func\n",
    "    :param power: power test\n",
    "    :param alpha: significant level\n",
    "    :return: minimal sample size for test\n",
    "    \"\"\"\n",
    "    # standard normal distribution to determine z-values\n",
    "    standard_norm = scs.norm(0, 1)\n",
    "\n",
    "    # find Z_beta from desired power\n",
    "    z_beta = standard_norm.ppf(power)\n",
    "\n",
    "    # find Z_alpha\n",
    "    z_alpha = standard_norm.ppf(1-alpha/2)\n",
    "\n",
    "    # average of probabilities from both groups\n",
    "\n",
    "    sample_size = (2 *(z_beta + z_alpha)**2 / effect_size**2)\n",
    "\n",
    "    return sample_size"
   ],
   "metadata": {
    "collapsed": false,
    "pycharm": {
     "name": "#%%\n"
    }
   }
  },
  {
   "cell_type": "code",
   "execution_count": 30,
   "outputs": [],
   "source": [
    "def preprocessing_data():\n",
    "    pass"
   ],
   "metadata": {
    "collapsed": false,
    "pycharm": {
     "name": "#%%\n"
    }
   }
  },
  {
   "cell_type": "code",
   "execution_count": null,
   "outputs": [],
   "source": [
    "def"
   ],
   "metadata": {
    "collapsed": false,
    "pycharm": {
     "name": "#%%\n"
    }
   }
  }
 ],
 "metadata": {
  "kernelspec": {
   "display_name": "Python 3 (ipykernel)",
   "language": "python",
   "name": "python3"
  },
  "language_info": {
   "codemirror_mode": {
    "name": "ipython",
    "version": 3
   },
   "file_extension": ".py",
   "mimetype": "text/x-python",
   "name": "python",
   "nbconvert_exporter": "python",
   "pygments_lexer": "ipython3",
   "version": "3.10.6"
  }
 },
 "nbformat": 4,
 "nbformat_minor": 1
}