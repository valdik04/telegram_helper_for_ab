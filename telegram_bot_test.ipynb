{
 "cells": [
  {
   "cell_type": "code",
   "execution_count": 4,
   "metadata": {
    "pycharm": {
     "name": "#%%\n"
    }
   },
   "outputs": [],
   "source": [
    "import pandas as pd\n",
    "import numpy as np\n",
    "import pingouin as pg\n",
    "import scipy.stats as scs\n",
    "from scipy.stats import shapiro\n",
    "from tqdm import tqdm_notebook\n",
    "from scipy.stats import norm\n",
    "import matplotlib as plt"
   ]
  },
  {
   "cell_type": "code",
   "execution_count": 104,
   "outputs": [],
   "source": [
    "def what_is_metric():\n",
    "    while(True):\n",
    "        print(\"\"\"Подскажи, какую метрику мы будем отслеживать. Выбери вариант ответа из предложенных. Введи число или слово STOP, если хочешь начать сначала.\n",
    "        1) CR(CTR и т.д) - конверсия\n",
    "        2) ARPU - средний чек\n",
    "        3) ARPPU - средний чек среди платящих пользователей\n",
    "        4) Номинативная - распределенно по группам\n",
    "        5) Количественная - непрерывные значения(выручка, количество пользователей и т.д)\n",
    "        \"\"\")\n",
    "        number = int(input())\n",
    "        if number == 'STOP':\n",
    "            return 'STOP'\n",
    "        if number == 1:\n",
    "            return 'CR'\n",
    "        if number == 2:\n",
    "            return 'ARPU'\n",
    "        if number == 3:\n",
    "            return 'ARPPU'\n",
    "        if number == 4:\n",
    "            return 'discrete'\n",
    "        if number == 5:\n",
    "            return 'continuous'\n",
    "        print('Нет, такого варианта. Давай еще раз.')"
   ],
   "metadata": {
    "collapsed": false,
    "pycharm": {
     "name": "#%%\n"
    }
   }
  },
  {
   "cell_type": "code",
   "execution_count": 105,
   "outputs": [],
   "source": [
    "def get_sigma(metric: str) -> float:\n",
    "    if metric == 'CR' or metric == 'discrete':\n",
    "        print(\"Введите базовое значение (конверсии)\")\n",
    "        p = float(input())\n",
    "        return (p*(1-p))**0.5\n",
    "    else:\n",
    "        print(\"Введите стандартное отклонение(std)\")\n",
    "        std = float(input())\n",
    "        return std"
   ],
   "metadata": {
    "collapsed": false,
    "pycharm": {
     "name": "#%%\n"
    }
   }
  },
  {
   "cell_type": "code",
   "execution_count": 106,
   "outputs": [],
   "source": [
    "def effect_size_func(mu_control: float, mu_experiment: float, sigma: float) -> float:\n",
    "    \"\"\"\n",
    "    :param mu_control: mean metric in control group\n",
    "    :param mu_experiment: mean metric in experiment group\n",
    "    :param sigma: Standard deviation\n",
    "    :return: effect_size\n",
    "    \"\"\"\n",
    "    return np.abs(mu_experiment - mu_control) / sigma"
   ],
   "metadata": {
    "collapsed": false,
    "pycharm": {
     "name": "#%%\n"
    }
   }
  },
  {
   "cell_type": "code",
   "execution_count": 107,
   "outputs": [],
   "source": [
    "def min_sample_size(effect_size: float, power=0.8, alpha=0.05)-> int:\n",
    "    \"\"\"\n",
    "    :param effect_size: from effect_size_func\n",
    "    :param power: power test\n",
    "    :param alpha: significant level\n",
    "    :return: minimal sample size for test\n",
    "    \"\"\"\n",
    "    # standard normal distribution to determine z-values\n",
    "    standard_norm = scs.norm(0, 1)\n",
    "\n",
    "    # find Z_beta from desired power\n",
    "    z_beta = standard_norm.ppf(power)\n",
    "\n",
    "    # find Z_alpha\n",
    "    z_alpha = standard_norm.ppf(1-alpha/2)\n",
    "\n",
    "    # average of probabilities from both groups\n",
    "\n",
    "    sample_size = (2 *(z_beta + z_alpha)**2 / effect_size**2)\n",
    "\n",
    "    return round(sample_size)"
   ],
   "metadata": {
    "collapsed": false,
    "pycharm": {
     "name": "#%%\n"
    }
   }
  },
  {
   "cell_type": "code",
   "execution_count": 108,
   "outputs": [],
   "source": [
    "def clear_data (df: pd.DataFrame,column_group:str, column_value:str):\n",
    "\n",
    "#преобразование типов\n",
    "\n",
    "    if df[column_group].nunique()>2:\n",
    "        return print (f'Ошибка в данных: значений в стобце {column_group} больше 2')\n",
    "    elif df[column_group].nunique()<2:\n",
    "        return print (f'Ошибка в данных: значений в столбце {column_group} меньше 2')\n",
    "\n",
    "    if df[column_value].dtype=='O':\n",
    "        try:\n",
    "            df[column_value]=df[column_value].dropna().apply(lambda x: x.replace(',','.')) # замена , на . в столбце значений\n",
    "            df[column_value]=df[column_value].astype('float')\n",
    "        except:\n",
    "            return print(f'Ошибка в записе данных: значения столбца {column_value} имеют неверный формат')\n",
    "\n",
    "    elif df[column_value].dtype=='int':\n",
    "        df[column_value]=df[column_value].astype('float')\n",
    "    elif df[column_value].dtype!='float':\n",
    "        return print(f'Ошибка в типе данных: столбец {column_value} имеет неверный формат')\n",
    "\n",
    "\n",
    "#работа с пропусками\n",
    "\n",
    "    if df[column_group].isna().sum():\n",
    "        print(f\"Процент пропущенных значений в столбце {column_group}\", (df[column_group].isna().sum())/(df.shape[0])*100, \"%\")\n",
    "        df.dropna(subset=[column_group],inplace=True)\n",
    "        print(f\"Из столбца {column_group} были удалены пропущенные значения\")\n",
    "\n",
    "    if df[column_value].isna().sum():\n",
    "        print(f\"Процент пропущенных значений в столбце {column_value}\", (df[column_value].isna().sum())/(df.shape[0])*100, \"%\")\n",
    "        print(f\"\"\"Подскажите, что делать с пропущенными значениями в столбце {column_value}? Введите (без кавычек):\\n\n",
    "    'del', если удалить\\n\n",
    "    'min', если приравнять к минимальному ({df[column_value].min()})\\n\n",
    "    'max', если приравнять к максимальному ({df[column_value].max()})\\n\n",
    "    'avg', если приравнять к среднему ({df[column_value].mean()})\\n\n",
    "    'median', если приравнять к медиане ({df[column_value].median()})\"\"\")\n",
    "        while True:\n",
    "            str_val=input()\n",
    "            if str_val=='del':\n",
    "                df[column_value]=df[column_value].dropna()\n",
    "                break\n",
    "            elif str_val=='min':\n",
    "                df[column_value].fillna(df[column_value].min(),inplace=True)\n",
    "                break\n",
    "            elif str_val=='max':\n",
    "                df[column_value].fillna(df[column_value].max(),inplace=True)\n",
    "                break\n",
    "            elif str_val=='avg':\n",
    "                df[column_value].fillna(df[column_value].mean(),inplace=True)\n",
    "                break\n",
    "            elif str_val=='median':\n",
    "                df[column_value].fillna(df[column_value].median(),inplace=True)\n",
    "                break\n",
    "            print('Введено неправильное значение, давай попробуем еще раз.')\n",
    "\n",
    "    return df, column_group, column_value"
   ],
   "metadata": {
    "collapsed": false,
    "pycharm": {
     "name": "#%%\n"
    }
   }
  },
  {
   "cell_type": "code",
   "execution_count": 109,
   "outputs": [],
   "source": [
    "def f_test(group_1, group_2):\n",
    "    x = np.array(group_1)\n",
    "    y = np.array(group_2)\n",
    "    f = np.var(x, ddof=1)/np.var(y, ddof=1) #calculate F test statistic\n",
    "    dfn = x.size-1 #define degrees of freedom numerator\n",
    "    dfd = y.size-1 #define degrees of freedom denominator\n",
    "    p = 1-scs.f.cdf(f, dfn, dfd) #find p-value of F test statistic\n",
    "    return p"
   ],
   "metadata": {
    "collapsed": false,
    "pycharm": {
     "name": "#%%\n"
    }
   }
  },
  {
   "cell_type": "code",
   "execution_count": 110,
   "outputs": [],
   "source": [
    "def get_and_change_outliers(data:pd.DataFrame(), name_column_metric: str, n = '0'):\n",
    "    _, bp = data[name_column_metric].plot.box(return_type='both')\n",
    "    outliers = [flier.get_ydata() for flier in bp[\"fliers\"]][0]\n",
    "    data_outliers = data[data[name_column_metric].isin(outliers)]\n",
    "    if data_outliers.shape[0] > 0:\n",
    "        print(\"\"\"Есть выбросы. Подскажи, что мне с ними сделать?\n",
    "        Введите номер варианта:\n",
    "        1) Удалить выбросы;\n",
    "        2) Заменить на максимальные и минимальные значение;\n",
    "        3) Заменить на среднее;\n",
    "        4) Заменить на медиану;\n",
    "        5) Оставить выбросы\n",
    "        \"\"\")\n",
    "        max_value = data[~data[name_column_metric].isin(outliers)][name_column_metric].max()\n",
    "        min_value = data[~data[name_column_metric].isin(outliers)][name_column_metric].min()\n",
    "        while True:\n",
    "            if n != '1' and n != '2' and n != '3' and n != '4' and n != '5' and n != 'STOP':\n",
    "                n = input()\n",
    "            if n == 'STOP':\n",
    "                return pd.DataFrame(), n\n",
    "            if n == '1':\n",
    "                return data[~data[name_column_metric].isin(outliers)], n\n",
    "            if n == '2':\n",
    "                data[name_column_metric] = data[name_column_metric].apply(lambda x: min_value if x<min_value else max_value if x > max_value else x)\n",
    "                return data, n\n",
    "            if n == '3':\n",
    "                mean_value = data[~data[name_column_metric].isin(outliers)][name_column_metric].mean()\n",
    "                data[name_column_metric] = data[name_column_metric].apply(lambda x: mean_value if x<min_value else mean_value if x > max_value else x)\n",
    "                return data, n\n",
    "            if n == '4':\n",
    "                median_value = data[~data[name_column_metric].isin(outliers)][name_column_metric].median()\n",
    "                data[name_column_metric] = data[name_column_metric].apply(lambda x: median_value if x<min_value else median_value if x > max_value else x)\n",
    "                return data, n\n",
    "            if n == '5':\n",
    "                return data, n\n",
    "            print('Введено неправильное значение, давай попробуем еще раз.')\n",
    "    else:\n",
    "        return data, '00'\n"
   ],
   "metadata": {
    "collapsed": false,
    "pycharm": {
     "name": "#%%\n"
    }
   }
  },
  {
   "cell_type": "code",
   "execution_count": 111,
   "outputs": [],
   "source": [
    "# Функция Бутстрапа\n",
    "def get_bootstrap(\n",
    "    data_column_1, # числовые значения первой выборки\n",
    "    data_column_2, # числовые значения второй выборки\n",
    "    boot_it = 2000, # количество бутстрап-подвыборок\n",
    "    statistic = np.mean, # интересующая нас статистика\n",
    "    bootstrap_conf_level = 0.95 # уровень значимости\n",
    "):\n",
    "    boot_data = []\n",
    "    for i in tqdm(range(boot_it)): # извлекаем подвыборки\n",
    "        samples_1 = data_column_1.sample(\n",
    "            len(data_column_1),\n",
    "            replace = True # параметр возвращения\n",
    "        ).values\n",
    "\n",
    "        samples_2 = data_column_2.sample(\n",
    "            len(data_column_1),\n",
    "            replace = True\n",
    "        ).values\n",
    "\n",
    "        boot_data.append(statistic(samples_1)-statistic(samples_2)) # mean() - применяем статистику\n",
    "\n",
    "    pd_boot_data = pd.DataFrame(boot_data)\n",
    "\n",
    "    left_quant = (1 - bootstrap_conf_level)/2\n",
    "    right_quant = 1 - (1 - bootstrap_conf_level) / 2\n",
    "    quants = pd_boot_data.quantile([left_quant, right_quant])\n",
    "\n",
    "    p_1 = norm.cdf(\n",
    "        x = 0,\n",
    "        loc = np.mean(boot_data),\n",
    "        scale = np.std(boot_data)\n",
    "    )\n",
    "    p_2 = norm.cdf(\n",
    "        x = 0,\n",
    "        loc = -np.mean(boot_data),\n",
    "        scale = np.std(boot_data)\n",
    "    )\n",
    "    p_value = min(p_1, p_2) * 2\n",
    "\n",
    "    # Визуализация\n",
    "    _, _, bars = plt.hist(pd_boot_data[0], bins = 50)\n",
    "    for bar in bars:\n",
    "        if bar.get_x() <= quants.iloc[0][0] or bar.get_x() >= quants.iloc[1][0]:\n",
    "            bar.set_facecolor('red')\n",
    "        else:\n",
    "            bar.set_facecolor('grey')\n",
    "            bar.set_edgecolor('black')\n",
    "\n",
    "    plt.style.use('ggplot')\n",
    "    plt.vlines(quants,ymin=0,ymax=50,linestyle='--')\n",
    "    plt.xlabel('boot_data')\n",
    "    plt.ylabel('frequency')\n",
    "    plt.title(\"Histogram of boot_data\")\n",
    "    plt.show()\n",
    "\n",
    "    return {\"boot_data\": boot_data,\n",
    "            \"quants\": quants,\n",
    "            \"p_value\": p_value}"
   ],
   "metadata": {
    "collapsed": false,
    "pycharm": {
     "name": "#%%\n"
    }
   }
  },
  {
   "cell_type": "code",
   "execution_count": 112,
   "outputs": [],
   "source": [
    "def get_p_value(metric: str, df: pd.DataFrame(), name_column_group: str, name_column_metric: str):\n",
    "    group_names = list(df.name_column_group.unique())\n",
    "    name_1 = group_names[0]\n",
    "    name_2 = group_names[1]\n",
    "    df_group_1 = df[df[name_column_group] == name_1]\n",
    "    df_group_2 = df[df[name_column_group] == name_2]\n",
    "    if metric == 'CR' or metric == 'discrete':\n",
    "        _, _, stats = pg.chi2_independence(df, x=name_column_group, y=name_column_metric)\n",
    "        p_value = stats.round(3).query('test == \"pearson\"')['pval'][0]\n",
    "        power = stats.round(3).query('test == \"pearson\"')['power'][0]\n",
    "        return p_value, power\n",
    "    if metric == 'ARPU' or metric == 'ARPPU' or metric == 'continuous':\n",
    "        if metric == 'ARPPU':\n",
    "            df_group_1 = df_group_1[df_group_1[name_column_metric] > 0]\n",
    "            df_group_2 = df_group_2[df_group_2[name_column_metric] > 0]\n",
    "        distribution = 'normal'\n",
    "        df_group_fix_outliers_1, outliers_choice_1 = get_and_change_outliers(df_group_1, name_column_metric)\n",
    "        df_group_outliers_2, outliers_choice_2 = get_and_change_outliers(df_group_2, name_column_metric, n = outliers_choice_1)\n",
    "        for gr in group_names:\n",
    "            df_group = df.query('@name_column_group == @gr')\n",
    "            p_val_shapiro = shapiro(df_group[name_column_metric])[1]\n",
    "            if p_val_shapiro < 0.05:\n",
    "                distribution = 'abnormal'\n",
    "                break\n",
    "        dispersion = 'equal'\n",
    "        if distribution == 'normal':\n",
    "            if f_test(df_group_1[name_column_metric], df_group_2[name_column_metric]) < 0.05:\n",
    "                dispersion = 'unequal'\n",
    "        if distribution == 'normal' and dispersion == 'equal' and outliers_choice_1 != '5' and outliers_choice_2 != '5':\n",
    "            t_test_result = pg.ttest(df.query('@name_column_group == @name_1')[name_column_metric],\n",
    "                     df.query('@name_column_group == @name_2')[name_column_metric])\n",
    "            return t_test_result['p-val'][0], t_test_result['power'][0]\n",
    "        if outliers_choice_1 != '5' and outliers_choice_2 != '5':\n",
    "            return get_bootstrap(df_group_1[name_column_metric], df_group_2[name_column_metric])['p_value']\n",
    "        else:\n",
    "            return pg.mwu(df_group_1[name_column_metric], df_group_2[name_column_metric], alternative='two-sided')['p-val'][0]"
   ],
   "metadata": {
    "collapsed": false,
    "pycharm": {
     "name": "#%%\n"
    }
   }
  },
  {
   "cell_type": "code",
   "execution_count": 113,
   "outputs": [],
   "source": [
    "def get_conclusion(df:pd.DataFrame(), name_column_group: str, name_column_metric: str, p_val:float):\n",
    "    group_names = list(df.name_column_group.unique())\n",
    "    name_1 = group_names[0]\n",
    "    name_2 = group_names[1]\n",
    "    df_group_1 = df[df[name_column_group] == name_1]\n",
    "    df_group_2 = df[df[name_column_group] == name_2]\n",
    "    mean_group_1 = df_group_1[name_column_metric].mean()\n",
    "    mean_group_2 = df_group_2[name_column_metric].mean()\n",
    "    if p_val < 0.05:\n",
    "        print(f'''\n",
    "        Среднее в группе {name_1}: {mean_group_1}.\n",
    "        Среднее в группе {name_2}: {mean_group_2}.\n",
    "        Различия в средних статистически значимы.\n",
    "            ''')\n",
    "    else:\n",
    "        print(f'''\n",
    "        Среднее в группе {name_1}: {mean_group_1}.\n",
    "        Среднее в группе {name_2}: {mean_group_2}.\n",
    "        Различия в средних статистически незначимы.''')"
   ],
   "metadata": {
    "collapsed": false,
    "pycharm": {
     "name": "#%%\n"
    }
   }
  },
  {
   "cell_type": "code",
   "execution_count": null,
   "outputs": [],
   "source": [],
   "metadata": {
    "collapsed": false,
    "pycharm": {
     "name": "#%%\n"
    }
   }
  }
 ],
 "metadata": {
  "kernelspec": {
   "display_name": "Python 3 (ipykernel)",
   "language": "python",
   "name": "python3"
  },
  "language_info": {
   "codemirror_mode": {
    "name": "ipython",
    "version": 3
   },
   "file_extension": ".py",
   "mimetype": "text/x-python",
   "name": "python",
   "nbconvert_exporter": "python",
   "pygments_lexer": "ipython3",
   "version": "3.10.6"
  }
 },
 "nbformat": 4,
 "nbformat_minor": 1
}