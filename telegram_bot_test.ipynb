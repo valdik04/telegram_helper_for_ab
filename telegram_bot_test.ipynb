{
 "cells": [
  {
   "cell_type": "code",
   "execution_count": 1,
   "metadata": {
    "pycharm": {
     "name": "#%%\n"
    }
   },
   "outputs": [],
   "source": [
    "import pandas as pd\n",
    "import numpy as np\n",
    "import pingouin as pg\n",
    "import scipy.stats as scs\n",
    "from scipy.stats import shapiro\n",
    "from tqdm import tqdm_notebook\n",
    "from scipy.stats import norm\n",
    "import matplotlib as plt"
   ]
  },
  {
   "cell_type": "code",
   "execution_count": 2,
   "outputs": [],
   "source": [
    "def what_is_metric():\n",
    "    while(True):\n",
    "        print(\"\"\"Подскажи, какую метрику мы будем отслеживать. Выбери вариант ответа из предложенных. Введи число или слово STOP, если хочешь начать сначала.\n",
    "        1) CR(CTR и т.д) - конверсия\n",
    "        2) ARPU - средний чек\n",
    "        3) ARPPU - средний чек среди платящих пользователей\n",
    "        4) Номинативная - распределенно по группам\n",
    "        5) Количественная - непрерывные значения(выручка, количество пользователей и т.д)\n",
    "        \"\"\")\n",
    "        number = int(input())\n",
    "        if number == 'STOP':\n",
    "            return 'STOP'\n",
    "        if number == 1:\n",
    "            return 'CR'\n",
    "        if number == 2:\n",
    "            return 'ARPU'\n",
    "        if number == 3:\n",
    "            return 'ARPPU'\n",
    "        if number == 4:\n",
    "            return 'discrete'\n",
    "        if number == 5:\n",
    "            return 'continuous'\n",
    "        print('Нет, такого варианта. Давай еще раз.')"
   ],
   "metadata": {
    "collapsed": false,
    "pycharm": {
     "name": "#%%\n"
    }
   }
  },
  {
   "cell_type": "code",
   "execution_count": 3,
   "outputs": [],
   "source": [
    "def get_sigma(metric: str) -> float:\n",
    "    if metric == 'CR' or metric == 'discrete':\n",
    "        print(\"Введите базовое значение (конверсии)\")\n",
    "        p = float(input())\n",
    "        return (p*(1-p))**0.5\n",
    "    else:\n",
    "        print(\"Введите стандартное отклонение(std)\")\n",
    "        std = float(input())\n",
    "        return std"
   ],
   "metadata": {
    "collapsed": false,
    "pycharm": {
     "name": "#%%\n"
    }
   }
  },
  {
   "cell_type": "code",
   "execution_count": 4,
   "outputs": [],
   "source": [
    "def effect_size_func(mu_control: float, mu_experiment: float, sigma: float) -> float:\n",
    "    \"\"\"\n",
    "    :param mu_control: mean metric in control group\n",
    "    :param mu_experiment: mean metric in experiment group\n",
    "    :param sigma: Standard deviation\n",
    "    :return: effect_size\n",
    "    \"\"\"\n",
    "    return np.abs(mu_experiment - mu_control) / sigma"
   ],
   "metadata": {
    "collapsed": false,
    "pycharm": {
     "name": "#%%\n"
    }
   }
  },
  {
   "cell_type": "code",
   "execution_count": 5,
   "outputs": [],
   "source": [
    "def min_sample_size(effect_size: float, power=0.8, alpha=0.05)-> int:\n",
    "    \"\"\"\n",
    "    :param effect_size: from effect_size_func\n",
    "    :param power: power test\n",
    "    :param alpha: significant level\n",
    "    :return: minimal sample size for test\n",
    "    \"\"\"\n",
    "    # standard normal distribution to determine z-values\n",
    "    standard_norm = scs.norm(0, 1)\n",
    "\n",
    "    # find Z_beta from desired power\n",
    "    z_beta = standard_norm.ppf(power)\n",
    "\n",
    "    # find Z_alpha\n",
    "    z_alpha = standard_norm.ppf(1-alpha/2)\n",
    "\n",
    "    # average of probabilities from both groups\n",
    "\n",
    "    sample_size = (2 *(z_beta + z_alpha)**2 / effect_size**2)\n",
    "\n",
    "    return round(sample_size)"
   ],
   "metadata": {
    "collapsed": false,
    "pycharm": {
     "name": "#%%\n"
    }
   }
  },
  {
   "cell_type": "code",
   "execution_count": 6,
   "outputs": [],
   "source": [
    "def clear_data (df: pd.DataFrame,column_group:str, column_value:str):\n",
    "\n",
    "#преобразование типов\n",
    "\n",
    "    if df[column_group].nunique()>2:\n",
    "        return print (f'Ошибка в данных: значений в стобце {column_group} больше 2')\n",
    "    elif df[column_group].nunique()<2:\n",
    "        return print (f'Ошибка в данных: значений в столбце {column_group} меньше 2')\n",
    "\n",
    "    if df[column_value].dtype=='O':\n",
    "        try:\n",
    "            df[column_value]=df[column_value].dropna().apply(lambda x: x.replace(',','.')) # замена , на . в столбце значений\n",
    "            df[column_value]=df[column_value].astype('float')\n",
    "        except:\n",
    "            return print(f'Ошибка в записе данных: значения столбца {column_value} имеют неверный формат')\n",
    "\n",
    "    elif df[column_value].dtype=='int':\n",
    "        df[column_value]=df[column_value].astype('float')\n",
    "    elif df[column_value].dtype!='float':\n",
    "        return print(f'Ошибка в типе данных: столбец {column_value} имеет неверный формат')\n",
    "\n",
    "\n",
    "#работа с пропусками\n",
    "\n",
    "    if df[column_group].isna().sum():\n",
    "        print(f\"Процент пропущенных значений в столбце {column_group}\", (df[column_group].isna().sum())/(df.shape[0])*100, \"%\")\n",
    "        df.dropna(subset=[column_group],inplace=True)\n",
    "        print(f\"Из столбца {column_group} были удалены пропущенные значения\")\n",
    "\n",
    "    if df[column_value].isna().sum():\n",
    "        print(f\"Процент пропущенных значений в столбце {column_value}\", (df[column_value].isna().sum())/(df.shape[0])*100, \"%\")\n",
    "        print(f\"\"\"Подскажите, что делать с пропущенными значениями в столбце {column_value}? Введите (без кавычек):\\n\n",
    "    'del', если удалить\\n\n",
    "    'min', если приравнять к минимальному ({df[column_value].min()})\\n\n",
    "    'max', если приравнять к максимальному ({df[column_value].max()})\\n\n",
    "    'avg', если приравнять к среднему ({df[column_value].mean()})\\n\n",
    "    'median', если приравнять к медиане ({df[column_value].median()})\"\"\")\n",
    "        while True:\n",
    "            str_val=input()\n",
    "            if str_val=='del':\n",
    "                df[column_value]=df[column_value].dropna()\n",
    "                break\n",
    "            elif str_val=='min':\n",
    "                df[column_value].fillna(df[column_value].min(),inplace=True)\n",
    "                break\n",
    "            elif str_val=='max':\n",
    "                df[column_value].fillna(df[column_value].max(),inplace=True)\n",
    "                break\n",
    "            elif str_val=='avg':\n",
    "                df[column_value].fillna(df[column_value].mean(),inplace=True)\n",
    "                break\n",
    "            elif str_val=='median':\n",
    "                df[column_value].fillna(df[column_value].median(),inplace=True)\n",
    "                break\n",
    "            print('Введено неправильное значение, давай попробуем еще раз.')\n",
    "\n",
    "    return df, column_group, column_value"
   ],
   "metadata": {
    "collapsed": false,
    "pycharm": {
     "name": "#%%\n"
    }
   }
  },
  {
   "cell_type": "code",
   "execution_count": 7,
   "outputs": [],
   "source": [
    "def f_test(group_1, group_2):\n",
    "    x = np.array(group_1)\n",
    "    y = np.array(group_2)\n",
    "    f = np.var(x, ddof=1)/np.var(y, ddof=1) #calculate F test statistic\n",
    "    dfn = x.size-1 #define degrees of freedom numerator\n",
    "    dfd = y.size-1 #define degrees of freedom denominator\n",
    "    p = 1-scs.f.cdf(f, dfn, dfd) #find p-value of F test statistic\n",
    "    return p"
   ],
   "metadata": {
    "collapsed": false,
    "pycharm": {
     "name": "#%%\n"
    }
   }
  },
  {
   "cell_type": "code",
   "execution_count": 112,
   "outputs": [],
   "source": [
    "def get_and_change_outliers(data: pd.DataFrame, name_column_metric: str, n='0'):\n",
    "    \"\"\"\n",
    "    :param data: DataFrame\n",
    "    :param name_column_metric: name column metric\n",
    "    :param n: choice for outliers\n",
    "    :return: DataFrame with fix outliers\n",
    "    \"\"\"\n",
    "    x_1 = data.quantile(0.25)[name_column_metric] - 1.5 * (\n",
    "            data.quantile(0.75)[name_column_metric] - data.quantile(0.25)[name_column_metric])\n",
    "    x_2 = data.quantile(0.75)[name_column_metric] + 1.5 * (\n",
    "                data.quantile(0.75)[name_column_metric] - data.quantile(0.25)[name_column_metric])\n",
    "\n",
    "    outliers = list(data[(data[name_column_metric] < x_1) | (data[name_column_metric] > x_2)][name_column_metric])\n",
    "    data_outliers = data[data[name_column_metric].isin(outliers)]\n",
    "    message = ''\n",
    "    if data_outliers.shape[0] > 0:\n",
    "        # print(\"\"\"Есть выбросы. Подскажи, что мне с ними сделать?\n",
    "        # Введите номер варианта:\n",
    "        # 1) Удалить выбросы;\n",
    "        # 2) Заменить на максимальные и минимальные значение;\n",
    "        # 3) Заменить на среднее;\n",
    "        # 4) Заменить на медиану;\n",
    "        # 5) Оставить выбросы\n",
    "        # \"\"\")\n",
    "        message += '\\nПроцент выбросов ' + str(data_outliers.shape[0]/(data.shape[0]) * 100) + \"%.\"\n",
    "        max_value = data[~data[name_column_metric].isin(outliers)][name_column_metric].max()\n",
    "        min_value = data[~data[name_column_metric].isin(outliers)][name_column_metric].min()\n",
    "        while True:\n",
    "            if n != '1' and n != '2' and n != '3' and n != '4' and n != '5' and n != 'STOP':\n",
    "                n = '5'\n",
    "            if n == 'STOP':\n",
    "                return pd.DataFrame(), n, message\n",
    "            if n == '1':\n",
    "                message += \"\\nВыбросы были удалены.\"\n",
    "                return data[~data[name_column_metric].isin(outliers)], n, message\n",
    "            if n == '2':\n",
    "                data[name_column_metric] = data[name_column_metric].\\\n",
    "                    apply(lambda x: min_value if x < min_value else max_value if x > max_value else x)\n",
    "                message += \"\\nВыбросы были заменены на максимальное и минимальное значение.\"\n",
    "                return data, n, message\n",
    "            if n == '3':\n",
    "                mean_value = data[~data[name_column_metric].isin(outliers)][name_column_metric].mean()\n",
    "                data[name_column_metric] = data[name_column_metric].\\\n",
    "                    apply(lambda x: mean_value if x < min_value else mean_value if x > max_value else x)\n",
    "                message += \"\\nВыбросы были заменены на среднее.\"\n",
    "                return data, n, message\n",
    "            if n == '4':\n",
    "                median_value = data[~data[name_column_metric].isin(outliers)][name_column_metric].median()\n",
    "                data[name_column_metric] = data[name_column_metric].\\\n",
    "                    apply(lambda x: median_value if x < min_value else median_value if x > max_value else x)\n",
    "                message += \"\\nВыбросы были заменены на медиану.\"\n",
    "                return data, n, message\n",
    "            if n == '5':\n",
    "                return data, n, message\n",
    "            # print('Введено неправильное значение, давай попробуем еще раз.')\n",
    "    else:\n",
    "        return data, '00', message\n",
    "\n",
    "\n",
    "def get_bootstrap(\n",
    "    data_column_1,  # числовые значения первой выборки\n",
    "    data_column_2,  # числовые значения второй выборки\n",
    "    boot_it=2000,  # количество бутстрап-подвыборок\n",
    "    statistic=np.mean,  # интересующая нас статистика\n",
    "    bootstrap_conf_level=0.95  # уровень значимости\n",
    "):\n",
    "    boot_data = []\n",
    "    for i in range(boot_it):  # извлекаем подвыборки\n",
    "        samples_1 = data_column_1.sample(\n",
    "            len(data_column_1),\n",
    "            replace=True  # параметр возвращения\n",
    "        ).values\n",
    "\n",
    "        samples_2 = data_column_2.sample(\n",
    "            len(data_column_1),\n",
    "            replace=True\n",
    "        ).values\n",
    "\n",
    "        boot_data.append(statistic(samples_1)-statistic(samples_2))  # mean() - применяем статистику\n",
    "\n",
    "    pd_boot_data = pd.DataFrame(boot_data)\n",
    "\n",
    "    left_quant = (1 - bootstrap_conf_level)/2\n",
    "    right_quant = 1 - (1 - bootstrap_conf_level) / 2\n",
    "    quants = pd_boot_data.quantile([left_quant, right_quant])\n",
    "\n",
    "    p_1 = norm.cdf(\n",
    "        x=0,\n",
    "        loc=np.mean(boot_data),\n",
    "        scale=np.std(boot_data)\n",
    "    )\n",
    "    p_2 = norm.cdf(\n",
    "        x=0,\n",
    "        loc=-np.mean(boot_data),\n",
    "        scale=np.std(boot_data)\n",
    "    )\n",
    "    p_value = min(p_1, p_2) * 2\n",
    "\n",
    "    # Визуализация\n",
    "    # _, _, bars = plt.hist(pd_boot_data[0], bins=50)\n",
    "    # for bar in bars:\n",
    "    #     if bar.get_x() <= quants.iloc[0][0] or bar.get_x() >= quants.iloc[1][0]:\n",
    "    #         bar.set_facecolor('red')\n",
    "    #     else:\n",
    "    #         bar.set_facecolor('grey')\n",
    "    #         bar.set_edgecolor('black')\n",
    "    #\n",
    "    # plt.style.use('ggplot')\n",
    "    # plt.vlines(quants, ymin=0, ymax=50, linestyle='--')\n",
    "    # plt.xlabel('boot_data')\n",
    "    # plt.ylabel('frequency')\n",
    "    # plt.title(\"Histogram of boot_data\")\n",
    "    # plt.show()\n",
    "\n",
    "    return {\"boot_data\": boot_data,\n",
    "            \"quants\": quants,\n",
    "            \"p_value\": p_value}"
   ],
   "metadata": {
    "collapsed": false,
    "pycharm": {
     "name": "#%%\n"
    }
   }
  },
  {
   "cell_type": "code",
   "execution_count": 126,
   "outputs": [],
   "source": [
    "def get_p_value(metric: str, df: pd.DataFrame, name_column_group: str, name_column_metric: str):\n",
    "    \"\"\"\n",
    "    :param metric: name metric\n",
    "    :param df: DataFrame\n",
    "    :param name_column_group: name column group\n",
    "    :param name_column_metric: name column metric\n",
    "    :return: p_value, power\n",
    "    \"\"\"\n",
    "    group_names = list(df[name_column_group].unique())\n",
    "    name_1 = group_names[0]\n",
    "    name_2 = group_names[1]\n",
    "    df_group_1 = df[df[name_column_group] == name_1]\n",
    "    df_group_2 = df[df[name_column_group] == name_2]\n",
    "    message = \"\"\n",
    "    if metric == 'CR' or metric == 'Discrete':\n",
    "        _, _, stats = pg.chi2_independence(df, x=name_column_group, y=name_column_metric)\n",
    "        p_value = stats.round(3).query('test == \"pearson\"')['pval'][0]\n",
    "        power = stats.round(3).query('test == \"pearson\"')['power'][0]\n",
    "        return p_value, power, message\n",
    "    if metric == 'ARPU' or metric == 'ARPPU' or metric == 'Continuous':\n",
    "        if metric == 'ARPPU':\n",
    "            df_group_1 = df_group_1[df_group_1[name_column_metric] > 0]\n",
    "            df_group_2 = df_group_2[df_group_2[name_column_metric] > 0]\n",
    "        distribution = 'normal'\n",
    "        # print(\"\"\"Есть выбросы. Подскажи, что мне с ними сделать?\n",
    "        # Введите номер варианта:\n",
    "        # 1) Удалить выбросы;\n",
    "        # 2) Заменить на максимальные и минимальные значение;\n",
    "        # 3) Заменить на среднее;\n",
    "        # 4) Заменить на медиану;\n",
    "        # 5) Оставить выбросы\n",
    "        # \"\"\")\n",
    "        what_outliers = \"1\"\n",
    "        df_group_1, outliers_choice_1, m = get_and_change_outliers(df_group_1, name_column_metric,\n",
    "                                                                         n=what_outliers)\n",
    "        message += f'\\nГруппа {name_1}' + m\n",
    "        df_group_2, outliers_choice_2, m = get_and_change_outliers(df_group_2, name_column_metric,\n",
    "                                                                         n=outliers_choice_1)\n",
    "        message += f'\\nГруппа {name_2}' + m\n",
    "        df = pd.concat([df_group_1, df_group_2])\n",
    "        for gr in group_names:\n",
    "            df_group = df[df[name_column_group] == gr]\n",
    "            p_val_shapiro = shapiro(df_group[name_column_metric]).pvalue\n",
    "            if p_val_shapiro < 0.05:\n",
    "                distribution = 'abnormal'\n",
    "                break\n",
    "        if distribution == 'normal':\n",
    "            message += '\\nДанные в группах из нормального распределения'\n",
    "        else:\n",
    "            message += '\\nДанные в группах не из нормального распределения'\n",
    "        dispersion = 'equal'\n",
    "        if distribution == 'normal':\n",
    "            if f_test(df_group_1[name_column_metric], df_group_2[name_column_metric]) < 0.05:\n",
    "                dispersion = 'unequal'\n",
    "        if dispersion == 'equal':\n",
    "            message += '\\nДисперсии в группах равны'\n",
    "        else:\n",
    "            message += '\\nДисперсии в группах различны'\n",
    "        if distribution == 'normal' and dispersion == 'equal' and outliers_choice_1 != '5' and outliers_choice_2 != '5':\n",
    "            t_test_result = pg.ttest(df[df[name_column_group] == name_1][name_column_metric],\n",
    "                                     df[df[name_column_group] == name_2][name_column_metric])\n",
    "            return round(t_test_result['p-val'][0], 4), round(t_test_result['power'][0], 4), message\n",
    "        if outliers_choice_1 != '5' and outliers_choice_2 != '5':\n",
    "            return round(get_bootstrap(df_group_1[name_column_metric],\n",
    "                                       df_group_2[name_column_metric])['p_value'], 4), round(np.nan, 4), message\n",
    "        else:\n",
    "            p_val = pg.mwu(df_group_1[name_column_metric], df_group_2[name_column_metric],\n",
    "                           alternative='two-sided')['p-val'][0]\n",
    "            return round(p_val, 4), round(np.nan, 4), message\n"
   ],
   "metadata": {
    "collapsed": false,
    "pycharm": {
     "name": "#%%\n"
    }
   }
  },
  {
   "cell_type": "code",
   "execution_count": 160,
   "outputs": [],
   "source": [
    "df = pd.DataFrame({'group':['A', 'B']*500, 'value':[i/100 for i in range(0, 991)]+ [9999999, 2, 9999999, 2, 9999999, 2, 9999999, 1, 9999999]})"
   ],
   "metadata": {
    "collapsed": false,
    "pycharm": {
     "name": "#%%\n"
    }
   }
  },
  {
   "cell_type": "code",
   "execution_count": 136,
   "outputs": [],
   "source": [
    "df.to_csv(r'C:\\Users\\User\\Downloads\\df_outliers.csv',index=False)"
   ],
   "metadata": {
    "collapsed": false,
    "pycharm": {
     "name": "#%%\n"
    }
   }
  },
  {
   "cell_type": "code",
   "execution_count": 161,
   "outputs": [
    {
     "name": "stderr",
     "output_type": "stream",
     "text": [
      "C:\\Users\\User\\AppData\\Local\\Temp\\ipykernel_15336\\351183696.py:8: FutureWarning: The default value of numeric_only in DataFrame.quantile is deprecated. In a future version, it will default to False. Select only valid columns or specify the value of numeric_only to silence this warning.\n",
      "  x_1 = data.quantile(0.25)[name_column_metric] - 1.5 * (\n",
      "C:\\Users\\User\\AppData\\Local\\Temp\\ipykernel_15336\\351183696.py:9: FutureWarning: The default value of numeric_only in DataFrame.quantile is deprecated. In a future version, it will default to False. Select only valid columns or specify the value of numeric_only to silence this warning.\n",
      "  data.quantile(0.75)[name_column_metric] - data.quantile(0.25)[name_column_metric])\n",
      "C:\\Users\\User\\AppData\\Local\\Temp\\ipykernel_15336\\351183696.py:10: FutureWarning: The default value of numeric_only in DataFrame.quantile is deprecated. In a future version, it will default to False. Select only valid columns or specify the value of numeric_only to silence this warning.\n",
      "  x_2 = data.quantile(0.75)[name_column_metric] + 1.5 * (\n",
      "C:\\Users\\User\\AppData\\Local\\Temp\\ipykernel_15336\\351183696.py:11: FutureWarning: The default value of numeric_only in DataFrame.quantile is deprecated. In a future version, it will default to False. Select only valid columns or specify the value of numeric_only to silence this warning.\n",
      "  data.quantile(0.75)[name_column_metric] - data.quantile(0.25)[name_column_metric])\n"
     ]
    }
   ],
   "source": [
    "data, n, m = get_and_change_outliers(df, 'value', n='1')"
   ],
   "metadata": {
    "collapsed": false,
    "pycharm": {
     "name": "#%%\n"
    }
   }
  },
  {
   "cell_type": "code",
   "execution_count": 162,
   "outputs": [
    {
     "data": {
      "text/plain": "    group  value\n0       A   0.00\n1       B   0.01\n2       A   0.02\n3       B   0.03\n4       A   0.04\n..    ...    ...\n990     A   9.90\n992     A   2.00\n994     A   2.00\n996     A   2.00\n998     A   1.00\n\n[995 rows x 2 columns]",
      "text/html": "<div>\n<style scoped>\n    .dataframe tbody tr th:only-of-type {\n        vertical-align: middle;\n    }\n\n    .dataframe tbody tr th {\n        vertical-align: top;\n    }\n\n    .dataframe thead th {\n        text-align: right;\n    }\n</style>\n<table border=\"1\" class=\"dataframe\">\n  <thead>\n    <tr style=\"text-align: right;\">\n      <th></th>\n      <th>group</th>\n      <th>value</th>\n    </tr>\n  </thead>\n  <tbody>\n    <tr>\n      <th>0</th>\n      <td>A</td>\n      <td>0.00</td>\n    </tr>\n    <tr>\n      <th>1</th>\n      <td>B</td>\n      <td>0.01</td>\n    </tr>\n    <tr>\n      <th>2</th>\n      <td>A</td>\n      <td>0.02</td>\n    </tr>\n    <tr>\n      <th>3</th>\n      <td>B</td>\n      <td>0.03</td>\n    </tr>\n    <tr>\n      <th>4</th>\n      <td>A</td>\n      <td>0.04</td>\n    </tr>\n    <tr>\n      <th>...</th>\n      <td>...</td>\n      <td>...</td>\n    </tr>\n    <tr>\n      <th>990</th>\n      <td>A</td>\n      <td>9.90</td>\n    </tr>\n    <tr>\n      <th>992</th>\n      <td>A</td>\n      <td>2.00</td>\n    </tr>\n    <tr>\n      <th>994</th>\n      <td>A</td>\n      <td>2.00</td>\n    </tr>\n    <tr>\n      <th>996</th>\n      <td>A</td>\n      <td>2.00</td>\n    </tr>\n    <tr>\n      <th>998</th>\n      <td>A</td>\n      <td>1.00</td>\n    </tr>\n  </tbody>\n</table>\n<p>995 rows × 2 columns</p>\n</div>"
     },
     "execution_count": 162,
     "metadata": {},
     "output_type": "execute_result"
    }
   ],
   "source": [
    "data"
   ],
   "metadata": {
    "collapsed": false,
    "pycharm": {
     "name": "#%%\n"
    }
   }
  },
  {
   "cell_type": "code",
   "execution_count": 100,
   "outputs": [
    {
     "data": {
      "text/plain": "nan"
     },
     "execution_count": 100,
     "metadata": {},
     "output_type": "execute_result"
    }
   ],
   "source": [
    "round(np.nan, 3)"
   ],
   "metadata": {
    "collapsed": false,
    "pycharm": {
     "name": "#%%\n"
    }
   }
  },
  {
   "cell_type": "code",
   "execution_count": 144,
   "outputs": [
    {
     "name": "stderr",
     "output_type": "stream",
     "text": [
      "C:\\Users\\User\\AppData\\Local\\Temp\\ipykernel_15336\\351183696.py:8: FutureWarning: The default value of numeric_only in DataFrame.quantile is deprecated. In a future version, it will default to False. Select only valid columns or specify the value of numeric_only to silence this warning.\n",
      "  x_1 = data.quantile(0.25)[name_column_metric] - 1.5 * (\n",
      "C:\\Users\\User\\AppData\\Local\\Temp\\ipykernel_15336\\351183696.py:9: FutureWarning: The default value of numeric_only in DataFrame.quantile is deprecated. In a future version, it will default to False. Select only valid columns or specify the value of numeric_only to silence this warning.\n",
      "  data.quantile(0.75)[name_column_metric] - data.quantile(0.25)[name_column_metric])\n",
      "C:\\Users\\User\\AppData\\Local\\Temp\\ipykernel_15336\\351183696.py:10: FutureWarning: The default value of numeric_only in DataFrame.quantile is deprecated. In a future version, it will default to False. Select only valid columns or specify the value of numeric_only to silence this warning.\n",
      "  x_2 = data.quantile(0.75)[name_column_metric] + 1.5 * (\n",
      "C:\\Users\\User\\AppData\\Local\\Temp\\ipykernel_15336\\351183696.py:11: FutureWarning: The default value of numeric_only in DataFrame.quantile is deprecated. In a future version, it will default to False. Select only valid columns or specify the value of numeric_only to silence this warning.\n",
      "  data.quantile(0.75)[name_column_metric] - data.quantile(0.25)[name_column_metric])\n"
     ]
    }
   ],
   "source": [
    "p, b, m = get_p_value('ARPU', df, 'group', 'value')"
   ],
   "metadata": {
    "collapsed": false,
    "pycharm": {
     "name": "#%%\n"
    }
   }
  },
  {
   "cell_type": "code",
   "execution_count": 146,
   "outputs": [
    {
     "data": {
      "text/plain": "0.8784"
     },
     "execution_count": 146,
     "metadata": {},
     "output_type": "execute_result"
    }
   ],
   "source": [
    "p"
   ],
   "metadata": {
    "collapsed": false,
    "pycharm": {
     "name": "#%%\n"
    }
   }
  },
  {
   "cell_type": "code",
   "execution_count": 163,
   "outputs": [
    {
     "data": {
      "text/plain": "0.027094799707279536"
     },
     "execution_count": 163,
     "metadata": {},
     "output_type": "execute_result"
    }
   ],
   "source": [
    "get_bootstrap(df.query('group == \"A\"')['value'], df.query('group == \"B\"')['value'])['p_value']"
   ],
   "metadata": {
    "collapsed": false,
    "pycharm": {
     "name": "#%%\n"
    }
   }
  },
  {
   "cell_type": "code",
   "execution_count": 24,
   "outputs": [
    {
     "data": {
      "text/plain": "100"
     },
     "execution_count": 24,
     "metadata": {},
     "output_type": "execute_result"
    }
   ],
   "source": [
    "len([i/100 for i in range(0, 98)] + [999999, 9999999])"
   ],
   "metadata": {
    "collapsed": false,
    "pycharm": {
     "name": "#%%\n"
    }
   }
  },
  {
   "cell_type": "code",
   "execution_count": 26,
   "outputs": [
    {
     "ename": "SyntaxError",
     "evalue": "cannot assign to operator (1178334543.py, line 1)",
     "output_type": "error",
     "traceback": [
      "\u001B[1;36m  Cell \u001B[1;32mIn[26], line 1\u001B[1;36m\u001B[0m\n\u001B[1;33m    [i for i/100 in range(0, 98)]+ [999999, 9999999]\u001B[0m\n\u001B[1;37m           ^\u001B[0m\n\u001B[1;31mSyntaxError\u001B[0m\u001B[1;31m:\u001B[0m cannot assign to operator\n"
     ]
    }
   ],
   "source": [
    "[i for i/100 in range(0, 98)]+ [999999, 9999999]"
   ],
   "metadata": {
    "collapsed": false,
    "pycharm": {
     "name": "#%%\n"
    }
   }
  },
  {
   "cell_type": "code",
   "execution_count": null,
   "outputs": [],
   "source": [],
   "metadata": {
    "collapsed": false,
    "pycharm": {
     "name": "#%%\n"
    }
   }
  },
  {
   "cell_type": "code",
   "execution_count": null,
   "outputs": [],
   "source": [],
   "metadata": {
    "collapsed": false,
    "pycharm": {
     "name": "#%%\n"
    }
   }
  },
  {
   "cell_type": "code",
   "execution_count": 111,
   "outputs": [],
   "source": [
    "# Функция Бутстрапа\n",
    "def get_bootstrap(\n",
    "    data_column_1, # числовые значения первой выборки\n",
    "    data_column_2, # числовые значения второй выборки\n",
    "    boot_it = 2000, # количество бутстрап-подвыборок\n",
    "    statistic = np.mean, # интересующая нас статистика\n",
    "    bootstrap_conf_level = 0.95 # уровень значимости\n",
    "):\n",
    "    boot_data = []\n",
    "    for i in tqdm(range(boot_it)): # извлекаем подвыборки\n",
    "        samples_1 = data_column_1.sample(\n",
    "            len(data_column_1),\n",
    "            replace = True # параметр возвращения\n",
    "        ).values\n",
    "\n",
    "        samples_2 = data_column_2.sample(\n",
    "            len(data_column_1),\n",
    "            replace = True\n",
    "        ).values\n",
    "\n",
    "        boot_data.append(statistic(samples_1)-statistic(samples_2)) # mean() - применяем статистику\n",
    "\n",
    "    pd_boot_data = pd.DataFrame(boot_data)\n",
    "\n",
    "    left_quant = (1 - bootstrap_conf_level)/2\n",
    "    right_quant = 1 - (1 - bootstrap_conf_level) / 2\n",
    "    quants = pd_boot_data.quantile([left_quant, right_quant])\n",
    "\n",
    "    p_1 = norm.cdf(\n",
    "        x = 0,\n",
    "        loc = np.mean(boot_data),\n",
    "        scale = np.std(boot_data)\n",
    "    )\n",
    "    p_2 = norm.cdf(\n",
    "        x = 0,\n",
    "        loc = -np.mean(boot_data),\n",
    "        scale = np.std(boot_data)\n",
    "    )\n",
    "    p_value = min(p_1, p_2) * 2\n",
    "\n",
    "    # Визуализация\n",
    "    _, _, bars = plt.hist(pd_boot_data[0], bins = 50)\n",
    "    for bar in bars:\n",
    "        if bar.get_x() <= quants.iloc[0][0] or bar.get_x() >= quants.iloc[1][0]:\n",
    "            bar.set_facecolor('red')\n",
    "        else:\n",
    "            bar.set_facecolor('grey')\n",
    "            bar.set_edgecolor('black')\n",
    "\n",
    "    plt.style.use('ggplot')\n",
    "    plt.vlines(quants,ymin=0,ymax=50,linestyle='--')\n",
    "    plt.xlabel('boot_data')\n",
    "    plt.ylabel('frequency')\n",
    "    plt.title(\"Histogram of boot_data\")\n",
    "    plt.show()\n",
    "\n",
    "    return {\"boot_data\": boot_data,\n",
    "            \"quants\": quants,\n",
    "            \"p_value\": p_value}"
   ],
   "metadata": {
    "collapsed": false,
    "pycharm": {
     "name": "#%%\n"
    }
   }
  },
  {
   "cell_type": "code",
   "execution_count": 112,
   "outputs": [],
   "source": [
    "def get_p_value(metric: str, df: pd.DataFrame(), name_column_group: str, name_column_metric: str):\n",
    "    group_names = list(df.name_column_group.unique())\n",
    "    name_1 = group_names[0]\n",
    "    name_2 = group_names[1]\n",
    "    df_group_1 = df[df[name_column_group] == name_1]\n",
    "    df_group_2 = df[df[name_column_group] == name_2]\n",
    "    if metric == 'CR' or metric == 'discrete':\n",
    "        _, _, stats = pg.chi2_independence(df, x=name_column_group, y=name_column_metric)\n",
    "        p_value = stats.round(3).query('test == \"pearson\"')['pval'][0]\n",
    "        power = stats.round(3).query('test == \"pearson\"')['power'][0]\n",
    "        return p_value, power\n",
    "    if metric == 'ARPU' or metric == 'ARPPU' or metric == 'continuous':\n",
    "        if metric == 'ARPPU':\n",
    "            df_group_1 = df_group_1[df_group_1[name_column_metric] > 0]\n",
    "            df_group_2 = df_group_2[df_group_2[name_column_metric] > 0]\n",
    "        distribution = 'normal'\n",
    "        df_group_fix_outliers_1, outliers_choice_1 = get_and_change_outliers(df_group_1, name_column_metric)\n",
    "        df_group_outliers_2, outliers_choice_2 = get_and_change_outliers(df_group_2, name_column_metric, n = outliers_choice_1)\n",
    "        for gr in group_names:\n",
    "            df_group = df.query('@name_column_group == @gr')\n",
    "            p_val_shapiro = shapiro(df_group[name_column_metric])[1]\n",
    "            if p_val_shapiro < 0.05:\n",
    "                distribution = 'abnormal'\n",
    "                break\n",
    "        dispersion = 'equal'\n",
    "        if distribution == 'normal':\n",
    "            if f_test(df_group_1[name_column_metric], df_group_2[name_column_metric]) < 0.05:\n",
    "                dispersion = 'unequal'\n",
    "        if distribution == 'normal' and dispersion == 'equal' and outliers_choice_1 != '5' and outliers_choice_2 != '5':\n",
    "            t_test_result = pg.ttest(df.query('@name_column_group == @name_1')[name_column_metric],\n",
    "                     df.query('@name_column_group == @name_2')[name_column_metric])\n",
    "            return t_test_result['p-val'][0], t_test_result['power'][0]\n",
    "        if outliers_choice_1 != '5' and outliers_choice_2 != '5':\n",
    "            return get_bootstrap(df_group_1[name_column_metric], df_group_2[name_column_metric])['p_value']\n",
    "        else:\n",
    "            return pg.mwu(df_group_1[name_column_metric], df_group_2[name_column_metric], alternative='two-sided')['p-val'][0]"
   ],
   "metadata": {
    "collapsed": false,
    "pycharm": {
     "name": "#%%\n"
    }
   }
  },
  {
   "cell_type": "code",
   "execution_count": 113,
   "outputs": [],
   "source": [
    "def get_conclusion(df:pd.DataFrame(), name_column_group: str, name_column_metric: str, p_val:float):\n",
    "    group_names = list(df.name_column_group.unique())\n",
    "    name_1 = group_names[0]\n",
    "    name_2 = group_names[1]\n",
    "    df_group_1 = df[df[name_column_group] == name_1]\n",
    "    df_group_2 = df[df[name_column_group] == name_2]\n",
    "    mean_group_1 = df_group_1[name_column_metric].mean()\n",
    "    mean_group_2 = df_group_2[name_column_metric].mean()\n",
    "    if p_val < 0.05:\n",
    "        print(f'''\n",
    "        Среднее в группе {name_1}: {mean_group_1}.\n",
    "        Среднее в группе {name_2}: {mean_group_2}.\n",
    "        Различия в средних статистически значимы.\n",
    "            ''')\n",
    "    else:\n",
    "        print(f'''\n",
    "        Среднее в группе {name_1}: {mean_group_1}.\n",
    "        Среднее в группе {name_2}: {mean_group_2}.\n",
    "        Различия в средних статистически незначимы.''')"
   ],
   "metadata": {
    "collapsed": false,
    "pycharm": {
     "name": "#%%\n"
    }
   }
  },
  {
   "cell_type": "code",
   "execution_count": null,
   "outputs": [],
   "source": [],
   "metadata": {
    "collapsed": false,
    "pycharm": {
     "name": "#%%\n"
    }
   }
  }
 ],
 "metadata": {
  "kernelspec": {
   "display_name": "Python 3 (ipykernel)",
   "language": "python",
   "name": "python3"
  },
  "language_info": {
   "codemirror_mode": {
    "name": "ipython",
    "version": 3
   },
   "file_extension": ".py",
   "mimetype": "text/x-python",
   "name": "python",
   "nbconvert_exporter": "python",
   "pygments_lexer": "ipython3",
   "version": "3.10.6"
  }
 },
 "nbformat": 4,
 "nbformat_minor": 1
}